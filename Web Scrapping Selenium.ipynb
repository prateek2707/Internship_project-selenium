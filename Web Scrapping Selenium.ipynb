{
 "cells": [
  {
   "cell_type": "code",
   "execution_count": null,
   "id": "9bf16365",
   "metadata": {},
   "outputs": [],
   "source": [
    "! pip install selenium"
   ]
  },
  {
   "cell_type": "code",
   "execution_count": null,
   "id": "4258cff3",
   "metadata": {},
   "outputs": [],
   "source": [
    "import selenium\n",
    "import pandas as pd\n",
    "from selenium import webdriver\n",
    "import warnings\n",
    "warnings.filterwarnings(\"ignore\")\n",
    "import time"
   ]
  },
  {
   "cell_type": "markdown",
   "id": "b62cc085",
   "metadata": {},
   "source": [
    "# Naukri.COM (Data Analyst)"
   ]
  },
  {
   "cell_type": "code",
   "execution_count": null,
   "id": "b3d1b49d",
   "metadata": {},
   "outputs": [],
   "source": [
    "from selenium import webdriver\n",
    "driver = webdriver.Chrome()\n",
    "driver.get(\"https://www.naukri.com/\")"
   ]
  },
  {
   "cell_type": "code",
   "execution_count": null,
   "id": "31382a35",
   "metadata": {},
   "outputs": [],
   "source": [
    "#finding element for job search bar\n",
    "search_field_designation=driver.find_element_by_class_name(\"suggestor-input\")\n",
    "search_field_designation.send_keys(\"Data Analyst\")\n",
    "search_field_location=driver.find_element_by_xpath('/html/body/div/div[2]/div[3]/div/div/div[3]/div/div/div/input')\n",
    "search_field_location.send_keys(\"Bangalore\")"
   ]
  },
  {
   "cell_type": "code",
   "execution_count": null,
   "id": "6f6d5b6a",
   "metadata": {},
   "outputs": [],
   "source": [
    "search_button=driver.find_element_by_xpath('/html/body/div/div[2]/div[3]/div/div/div[6]')\n",
    "search_button.click()"
   ]
  },
  {
   "cell_type": "code",
   "execution_count": null,
   "id": "c18cfeb0",
   "metadata": {},
   "outputs": [],
   "source": [
    "#Alternative way\n",
    "url=\"https://www.naukri.com/data-analyst-jobs-in-bangalore?k=data%20analyst&l=bangalore\""
   ]
  },
  {
   "cell_type": "code",
   "execution_count": null,
   "id": "4f25cd6c",
   "metadata": {},
   "outputs": [],
   "source": [
    "driver.get(url)"
   ]
  },
  {
   "cell_type": "code",
   "execution_count": null,
   "id": "8b877995",
   "metadata": {},
   "outputs": [],
   "source": [
    "#Empty list\n",
    "job_titles=[]\n",
    "company_names=[]\n",
    "locations_list=[]\n",
    "experience_list=[]"
   ]
  },
  {
   "cell_type": "code",
   "execution_count": null,
   "id": "2068d3ff",
   "metadata": {},
   "outputs": [],
   "source": [
    "titles_tags=driver.find_elements_by_xpath(\"//a[@class='title fw500 ellipsis']\")\n",
    "titles_tags[0:4]"
   ]
  },
  {
   "cell_type": "markdown",
   "id": "0146ccd0",
   "metadata": {},
   "source": [
    "Now we have all the tags in which there arae the job titles.\n",
    "\n",
    "Now we will extract the text from these tags one by one by looping over these tags "
   ]
  },
  {
   "cell_type": "code",
   "execution_count": null,
   "id": "04963b8a",
   "metadata": {},
   "outputs": [],
   "source": [
    "# Now the text of the job title is inside the tags extracted above.\n",
    "#so we will run a loop to iterate over the tags extracted above and\n",
    "\n",
    "for i in titles_tags:\n",
    "    title=i.text\n",
    "    job_titles.append(title)\n",
    "job_titles[0:4]"
   ]
  },
  {
   "cell_type": "markdown",
   "id": "268d3551",
   "metadata": {},
   "source": [
    "Now we will extract all the html tags where we have the company names. Let me first show you in which tags the company names are put on the webpage."
   ]
  },
  {
   "cell_type": "code",
   "execution_count": null,
   "id": "09e3fba0",
   "metadata": {},
   "outputs": [],
   "source": [
    "# So, lets extract all the tags having the company names\n",
    "companies_tags=driver.find_elements_by_xpath(\"//a[@class='subTitle ellipsis fleft']\")\n",
    "companies_tags[0:4]"
   ]
  },
  {
   "cell_type": "code",
   "execution_count": null,
   "id": "e5ef304b",
   "metadata": {},
   "outputs": [],
   "source": [
    "for i in companies_tags:\n",
    "    company_name=i.text\n",
    "    company_names.append(company_name)\n",
    "company_names[0:4]"
   ]
  },
  {
   "cell_type": "code",
   "execution_count": null,
   "id": "fe061ab1",
   "metadata": {},
   "outputs": [],
   "source": [
    "# So, lets extract all the tags having the experience\n",
    "experience_tags=driver.find_elements_by_xpath(\"//li[@class='fleft grey-text br2 placeHolderLi experience']/span[1]\")\n",
    "experience_tags[0:4]"
   ]
  },
  {
   "cell_type": "markdown",
   "id": "15039c64",
   "metadata": {},
   "source": [
    "#In above cell, we have used /span[1] as parent tag after the xpath."
   ]
  },
  {
   "cell_type": "code",
   "execution_count": null,
   "id": "9613bd38",
   "metadata": {},
   "outputs": [],
   "source": [
    "for i in experience_tags:\n",
    "    experience=i.text\n",
    "    experience_list.append(experience)\n",
    "experience_list[0:4]"
   ]
  },
  {
   "cell_type": "code",
   "execution_count": null,
   "id": "888eb5f9",
   "metadata": {},
   "outputs": [],
   "source": [
    "# So, lets extract all the tags having the location\n",
    "locations_tags=driver.find_elements_by_xpath(\"//li[@class='fleft grey-text br2 placeHolderLi location']/span[1]\")\n",
    "locations_tags[0:4]"
   ]
  },
  {
   "cell_type": "code",
   "execution_count": null,
   "id": "f4fc8329",
   "metadata": {},
   "outputs": [],
   "source": [
    "for i in locations_tags:\n",
    "    location=i.text\n",
    "    locations_list.append(location)\n",
    "locations_list[0:4]"
   ]
  },
  {
   "cell_type": "markdown",
   "id": "feb630ce",
   "metadata": {},
   "source": [
    "Before creating dataframe, lets check the length of each of the list. Because if the length of all the list are not equal, then a dataframe cannot be formed"
   ]
  },
  {
   "cell_type": "code",
   "execution_count": null,
   "id": "e2540adf",
   "metadata": {},
   "outputs": [],
   "source": [
    "print(len(job_titles),len(company_names),len(experience_list),len(locations_list))"
   ]
  },
  {
   "cell_type": "code",
   "execution_count": null,
   "id": "00799ec5",
   "metadata": {},
   "outputs": [],
   "source": [
    "import pandas as pd"
   ]
  },
  {
   "cell_type": "code",
   "execution_count": null,
   "id": "7fde525f",
   "metadata": {},
   "outputs": [],
   "source": [
    "jobs=pd.DataFrame({})\n",
    "jobs['title']=job_titles\n",
    "jobs['company']=company_names\n",
    "jobs['experience_required']=locations_list\n",
    "jobs['location']=experience_list"
   ]
  },
  {
   "cell_type": "code",
   "execution_count": null,
   "id": "6f8c8d08",
   "metadata": {},
   "outputs": [],
   "source": [
    "jobs.head(11)"
   ]
  },
  {
   "cell_type": "markdown",
   "id": "70a64dd1",
   "metadata": {},
   "source": [
    "# Naukri.COM (Data Scientist)"
   ]
  },
  {
   "cell_type": "code",
   "execution_count": null,
   "id": "1c99ff7e",
   "metadata": {},
   "outputs": [],
   "source": [
    "from selenium import webdriver\n",
    "driver = webdriver.Chrome()\n",
    "driver.get(\"https://www.naukri.com/\")"
   ]
  },
  {
   "cell_type": "code",
   "execution_count": null,
   "id": "dd67e2c8",
   "metadata": {},
   "outputs": [],
   "source": [
    "#finding element for job search bar\n",
    "search_field_designation=driver.find_element_by_class_name(\"suggestor-input\")\n",
    "search_field_designation.send_keys(\"Data Scientist\")\n",
    "search_field_location=driver.find_element_by_xpath('/html/body/div/div[2]/div[3]/div/div/div[3]/div/div/div/input')\n",
    "search_field_location.send_keys(\"Bangalore\")"
   ]
  },
  {
   "cell_type": "code",
   "execution_count": null,
   "id": "ac89dc9d",
   "metadata": {},
   "outputs": [],
   "source": [
    "search_button=driver.find_element_by_xpath('/html/body/div/div[2]/div[3]/div/div/div[6]')\n",
    "search_button.click()"
   ]
  },
  {
   "cell_type": "code",
   "execution_count": null,
   "id": "c3e04872",
   "metadata": {},
   "outputs": [],
   "source": [
    "#Empty list\n",
    "job_titles_DS=[]\n",
    "company_names_DS=[]\n",
    "locations_list_DS=[]\n",
    "experience_list_DS=[]"
   ]
  },
  {
   "cell_type": "code",
   "execution_count": null,
   "id": "2ac8d9be",
   "metadata": {},
   "outputs": [],
   "source": [
    "titles_tags_DS=driver.find_elements_by_xpath(\"//a[@class='title fw500 ellipsis']\")\n",
    "titles_tags_DS[0:4]"
   ]
  },
  {
   "cell_type": "code",
   "execution_count": null,
   "id": "14310a55",
   "metadata": {},
   "outputs": [],
   "source": [
    "for i in titles_tags_DS:\n",
    "    title=i.text\n",
    "    job_titles_DS.append(title)\n",
    "job_titles_DS[0:4]"
   ]
  },
  {
   "cell_type": "code",
   "execution_count": null,
   "id": "15249366",
   "metadata": {},
   "outputs": [],
   "source": [
    "companies_tags_DS=driver.find_elements_by_xpath(\"//a[@class='subTitle ellipsis fleft']\")\n",
    "companies_tags_DS[0:4]"
   ]
  },
  {
   "cell_type": "code",
   "execution_count": null,
   "id": "0bc26d8c",
   "metadata": {},
   "outputs": [],
   "source": [
    "for i in companies_tags_DS:\n",
    "    company_name=i.text\n",
    "    company_names_DS.append(company_name)\n",
    "company_names_DS[0:4]"
   ]
  },
  {
   "cell_type": "code",
   "execution_count": null,
   "id": "555b1968",
   "metadata": {},
   "outputs": [],
   "source": [
    "experience_tags_DS=driver.find_elements_by_xpath(\"//li[@class='fleft grey-text br2 placeHolderLi experience']/span[1]\")\n",
    "experience_tags_DS[0:4]"
   ]
  },
  {
   "cell_type": "code",
   "execution_count": null,
   "id": "87770d66",
   "metadata": {},
   "outputs": [],
   "source": [
    "for i in experience_tags_DS:\n",
    "    experience=i.text\n",
    "    experience_list_DS.append(experience)\n",
    "experience_list_DS[0:4]"
   ]
  },
  {
   "cell_type": "code",
   "execution_count": null,
   "id": "2879f8a4",
   "metadata": {},
   "outputs": [],
   "source": [
    "locations_tags_DS=driver.find_elements_by_xpath(\"//li[@class='fleft grey-text br2 placeHolderLi location']/span[1]\")\n",
    "locations_tags_DS[0:4]"
   ]
  },
  {
   "cell_type": "code",
   "execution_count": null,
   "id": "3cbca039",
   "metadata": {},
   "outputs": [],
   "source": [
    "for i in locations_tags_DS:\n",
    "    location=i.text\n",
    "    locations_list_DS.append(location)\n",
    "locations_list[0:4]"
   ]
  },
  {
   "cell_type": "code",
   "execution_count": null,
   "id": "5fc84380",
   "metadata": {},
   "outputs": [],
   "source": [
    "print(len(job_titles_DS),len(company_names_DS),len(experience_list_DS),len(locations_list_DS))"
   ]
  },
  {
   "cell_type": "code",
   "execution_count": null,
   "id": "62c1c640",
   "metadata": {},
   "outputs": [],
   "source": [
    "jobs_DS=pd.DataFrame({})\n",
    "jobs_DS['title']=job_titles_DS\n",
    "jobs_DS['company']=company_names_DS\n",
    "jobs_DS['experience_required']=locations_list_DS\n",
    "jobs_DS['location']=experience_list_DS"
   ]
  },
  {
   "cell_type": "code",
   "execution_count": null,
   "id": "27edea20",
   "metadata": {},
   "outputs": [],
   "source": [
    "jobs_DS.head(11)"
   ]
  },
  {
   "cell_type": "markdown",
   "id": "0394697d",
   "metadata": {},
   "source": [
    "# Solution 3"
   ]
  },
  {
   "cell_type": "code",
   "execution_count": null,
   "id": "5750e34b",
   "metadata": {},
   "outputs": [],
   "source": [
    "from selenium import webdriver\n",
    "driver = webdriver.Chrome()\n",
    "driver.get(\"https://www.naukri.com/\")"
   ]
  },
  {
   "cell_type": "code",
   "execution_count": null,
   "id": "40023af3",
   "metadata": {},
   "outputs": [],
   "source": [
    "search_field_designation=driver.find_element_by_class_name(\"suggestor-input\")\n",
    "search_field_designation.send_keys(\"Data Scientist\")\n",
    "search_field_location=driver.find_element_by_xpath('/html/body/div/div[2]/div[3]/div/div/div[3]/div/div/div/input')\n",
    "search_field_location.send_keys(\"Delhi/NCR\")"
   ]
  },
  {
   "cell_type": "code",
   "execution_count": null,
   "id": "14f8b67e",
   "metadata": {},
   "outputs": [],
   "source": [
    "search_button=driver.find_element_by_xpath('/html/body/div/div[2]/div[3]/div/div/div[6]')\n",
    "search_button.click()"
   ]
  },
  {
   "cell_type": "code",
   "execution_count": null,
   "id": "532666db",
   "metadata": {},
   "outputs": [],
   "source": [
    "#Empty list\n",
    "job_titles_NCR=[]\n",
    "company_names_NCR=[]\n",
    "locations_list_NCR=[]\n",
    "experience_list_NCR=[]"
   ]
  },
  {
   "cell_type": "code",
   "execution_count": null,
   "id": "9e0b0021",
   "metadata": {},
   "outputs": [],
   "source": [
    "titles_tags_NCR=driver.find_elements_by_xpath(\"//a[@class='title fw500 ellipsis']\")\n",
    "titles_tags_NCR[0:4]"
   ]
  },
  {
   "cell_type": "code",
   "execution_count": null,
   "id": "5943d6b2",
   "metadata": {},
   "outputs": [],
   "source": [
    "for i in titles_tags_NCR:\n",
    "    title=i.text\n",
    "    job_titles_NCR.append(title)\n",
    "job_titles_NCR[0:4]"
   ]
  },
  {
   "cell_type": "code",
   "execution_count": null,
   "id": "bb7bf7b1",
   "metadata": {},
   "outputs": [],
   "source": [
    "companies_tags_NCR=driver.find_elements_by_xpath(\"//a[@class='subTitle ellipsis fleft']\")\n",
    "companies_tags_NCR[0:4]"
   ]
  },
  {
   "cell_type": "code",
   "execution_count": null,
   "id": "7322778f",
   "metadata": {},
   "outputs": [],
   "source": [
    "for i in companies_tags_NCR:\n",
    "    company_name=i.text\n",
    "    company_names_NCR.append(company_name)\n",
    "company_names_NCR[0:4]"
   ]
  },
  {
   "cell_type": "code",
   "execution_count": null,
   "id": "ac58b8fa",
   "metadata": {},
   "outputs": [],
   "source": [
    "experience_tags_NCR=driver.find_elements_by_xpath(\"//li[@class='fleft grey-text br2 placeHolderLi experience']/span[1]\")\n",
    "experience_tags_NCR[0:4]"
   ]
  },
  {
   "cell_type": "code",
   "execution_count": null,
   "id": "5874c438",
   "metadata": {},
   "outputs": [],
   "source": [
    "for i in experience_tags_NCR:\n",
    "    experience=i.text\n",
    "    experience_list_NCR.append(experience)\n",
    "experience_list_NCR[0:4]"
   ]
  },
  {
   "cell_type": "code",
   "execution_count": null,
   "id": "9eeee27a",
   "metadata": {},
   "outputs": [],
   "source": [
    "locations_tags_NCR=driver.find_elements_by_xpath(\"//li[@class='fleft grey-text br2 placeHolderLi location']/span[1]\")\n",
    "locations_tags_NCR[0:4]"
   ]
  },
  {
   "cell_type": "code",
   "execution_count": null,
   "id": "fe262d25",
   "metadata": {},
   "outputs": [],
   "source": [
    "for i in locations_tags_NCR:\n",
    "    location=i.text\n",
    "    locations_list_NCR.append(location)\n",
    "locations_list[0:4]"
   ]
  },
  {
   "cell_type": "code",
   "execution_count": null,
   "id": "216396f4",
   "metadata": {},
   "outputs": [],
   "source": [
    "print(len(job_titles_DS),len(company_names_DS),len(experience_list_DS),len(locations_list_DS))"
   ]
  },
  {
   "cell_type": "code",
   "execution_count": null,
   "id": "8de63ad3",
   "metadata": {},
   "outputs": [],
   "source": [
    "jobs_NCR=pd.DataFrame({})\n",
    "jobs_NCR['title']=job_titles_NCR\n",
    "jobs_NCR['company']=company_names_NCR\n",
    "jobs_NCR['experience_required']=locations_list_NCR\n",
    "jobs_NCR['location']=experience_list_NCR"
   ]
  },
  {
   "cell_type": "code",
   "execution_count": null,
   "id": "a8096ede",
   "metadata": {
    "scrolled": true
   },
   "outputs": [],
   "source": [
    "jobs_NCR.head(11)"
   ]
  }
 ],
 "metadata": {
  "kernelspec": {
   "display_name": "Python 3",
   "language": "python",
   "name": "python3"
  },
  "language_info": {
   "codemirror_mode": {
    "name": "ipython",
    "version": 3
   },
   "file_extension": ".py",
   "mimetype": "text/x-python",
   "name": "python",
   "nbconvert_exporter": "python",
   "pygments_lexer": "ipython3",
   "version": "3.8.8"
  }
 },
 "nbformat": 4,
 "nbformat_minor": 5
}
