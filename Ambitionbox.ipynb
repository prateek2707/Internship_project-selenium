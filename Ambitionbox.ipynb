{
 "cells": [
  {
   "cell_type": "code",
   "execution_count": 2,
   "id": "7ab1c9db",
   "metadata": {},
   "outputs": [],
   "source": [
    "import pandas as pd\n",
    "import warnings\n",
    "warnings.filterwarnings(\"ignore\")\n",
    "import time"
   ]
  },
  {
   "cell_type": "code",
   "execution_count": 3,
   "id": "0168c823",
   "metadata": {},
   "outputs": [],
   "source": [
    "from selenium import webdriver\n",
    "driver = webdriver.Chrome()\n",
    "driver.get(\"https://www.ambitionbox.com/\")"
   ]
  },
  {
   "cell_type": "code",
   "execution_count": 4,
   "id": "be763118",
   "metadata": {},
   "outputs": [],
   "source": [
    "Jobs_button=driver.find_element_by_xpath('/html/body/div[1]/nav/nav/a[6]')\n",
    "Jobs_button.click()"
   ]
  },
  {
   "cell_type": "code",
   "execution_count": 12,
   "id": "c0322c87",
   "metadata": {},
   "outputs": [],
   "source": [
    "search_field_designation=driver.find_element_by_xpath(\"/html/body/div/div/div/div[2]/div[1]/div[1]/div/div/div/div/span/input\")\n",
    "search_field_designation.send_keys(\"Data Scientist\")"
   ]
  },
  {
   "cell_type": "code",
   "execution_count": 14,
   "id": "72491d7f",
   "metadata": {},
   "outputs": [],
   "source": [
    "search_button=driver.find_element_by_xpath('/html/body/div/div/div/div[2]/div[1]/div[1]/div/div/div/button/span')\n",
    "search_button.click()"
   ]
  },
  {
   "cell_type": "code",
   "execution_count": 15,
   "id": "72abd04b",
   "metadata": {},
   "outputs": [],
   "source": [
    "location_button=driver.find_element_by_xpath('/html/body/div/div/div/div[2]/div[1]/div[2]/div[1]/div/div/div/div[2]/div[1]/p')\n",
    "location_button.click()"
   ]
  },
  {
   "cell_type": "code",
   "execution_count": 16,
   "id": "c560b4ad",
   "metadata": {},
   "outputs": [],
   "source": [
    "Noida_field_designation=driver.find_element_by_xpath(\"/html/body/div/div/div/div[2]/div[1]/div[2]/div[1]/div/div/div/div[2]/div[2]/div/div[2]/input\")\n",
    "Noida_field_designation.send_keys(\"Noida\")"
   ]
  },
  {
   "cell_type": "code",
   "execution_count": 17,
   "id": "3597a199",
   "metadata": {},
   "outputs": [],
   "source": [
    "selecting_Noida_button=driver.find_element_by_xpath('/html/body/div/div/div/div[2]/div[1]/div[2]/div[1]/div/div/div/div[2]/div[2]/div/div[3]/div[1]/div[1]/div/label')\n",
    "selecting_Noida_button.click()"
   ]
  },
  {
   "cell_type": "code",
   "execution_count": 18,
   "id": "d12ff3e0",
   "metadata": {},
   "outputs": [],
   "source": [
    "Company_Name=[]\n",
    "Days=[]\n",
    "Company_Rating=[]"
   ]
  },
  {
   "cell_type": "code",
   "execution_count": 19,
   "id": "af8b7661",
   "metadata": {},
   "outputs": [
    {
     "data": {
      "text/plain": [
       "[<selenium.webdriver.remote.webelement.WebElement (session=\"f154fa365da22a0f14cfbe9438398be2\", element=\"e5515c7e-de02-4add-b65e-37adac53b8b3\")>,\n",
       " <selenium.webdriver.remote.webelement.WebElement (session=\"f154fa365da22a0f14cfbe9438398be2\", element=\"d7c03f74-eb7d-45e6-a81e-f0c6c9344ccd\")>,\n",
       " <selenium.webdriver.remote.webelement.WebElement (session=\"f154fa365da22a0f14cfbe9438398be2\", element=\"9ef2da37-3375-4b19-acc6-9ad5ee532623\")>,\n",
       " <selenium.webdriver.remote.webelement.WebElement (session=\"f154fa365da22a0f14cfbe9438398be2\", element=\"bd98088c-4ce6-44d9-a826-e42d87d4b69b\")>]"
      ]
     },
     "execution_count": 19,
     "metadata": {},
     "output_type": "execute_result"
    }
   ],
   "source": [
    "company_tags=driver.find_elements_by_xpath(\"//p[@class='company body-medium']\")\n",
    "company_tags[0:4]"
   ]
  },
  {
   "cell_type": "code",
   "execution_count": 20,
   "id": "5e007730",
   "metadata": {},
   "outputs": [
    {
     "data": {
      "text/plain": [
       "['GENPACT India Private Limited',\n",
       " 'GENPACT India Private Limited',\n",
       " 'Tech Mahindra Ltd',\n",
       " 'GENPACT India Private Limited']"
      ]
     },
     "execution_count": 20,
     "metadata": {},
     "output_type": "execute_result"
    }
   ],
   "source": [
    "for i in company_tags:\n",
    "    try:\n",
    "        company=i.text\n",
    "        Company_Name.append(company)\n",
    "    except:\n",
    "        Company_Name.append(\"-\")\n",
    "Company_Name[0:4]"
   ]
  },
  {
   "cell_type": "code",
   "execution_count": 28,
   "id": "48de9a0e",
   "metadata": {},
   "outputs": [
    {
     "data": {
      "text/plain": [
       "[<selenium.webdriver.remote.webelement.WebElement (session=\"f154fa365da22a0f14cfbe9438398be2\", element=\"0e4ff422-39a5-49d9-8a97-a006d1e56e96\")>,\n",
       " <selenium.webdriver.remote.webelement.WebElement (session=\"f154fa365da22a0f14cfbe9438398be2\", element=\"e4278850-109a-455b-ac25-fb3e6fa82350\")>,\n",
       " <selenium.webdriver.remote.webelement.WebElement (session=\"f154fa365da22a0f14cfbe9438398be2\", element=\"543c76fb-51e6-4e3d-92cd-f54d7a7e8da7\")>,\n",
       " <selenium.webdriver.remote.webelement.WebElement (session=\"f154fa365da22a0f14cfbe9438398be2\", element=\"9360e675-2413-40fb-b7da-14ecdc3ec106\")>]"
      ]
     },
     "execution_count": 28,
     "metadata": {},
     "output_type": "execute_result"
    }
   ],
   "source": [
    "days_tags=driver.find_elements_by_xpath(\"//span[@class='body-small']\")\n",
    "days_tags[0:4]"
   ]
  },
  {
   "cell_type": "code",
   "execution_count": 29,
   "id": "60092909",
   "metadata": {},
   "outputs": [
    {
     "data": {
      "text/plain": [
       "['4d ago', 'via naukri.com', '9d ago', 'via naukri.com']"
      ]
     },
     "execution_count": 29,
     "metadata": {},
     "output_type": "execute_result"
    }
   ],
   "source": [
    "for i in days_tags:\n",
    "    try:\n",
    "        days=i.text\n",
    "        Days.append(days)\n",
    "    except:\n",
    "        Days.append(\"-\") \n",
    "Days[0:4]"
   ]
  },
  {
   "cell_type": "code",
   "execution_count": 25,
   "id": "63d8fbf5",
   "metadata": {},
   "outputs": [
    {
     "data": {
      "text/plain": [
       "[<selenium.webdriver.remote.webelement.WebElement (session=\"f154fa365da22a0f14cfbe9438398be2\", element=\"0e4ff422-39a5-49d9-8a97-a006d1e56e96\")>,\n",
       " <selenium.webdriver.remote.webelement.WebElement (session=\"f154fa365da22a0f14cfbe9438398be2\", element=\"e4278850-109a-455b-ac25-fb3e6fa82350\")>,\n",
       " <selenium.webdriver.remote.webelement.WebElement (session=\"f154fa365da22a0f14cfbe9438398be2\", element=\"543c76fb-51e6-4e3d-92cd-f54d7a7e8da7\")>,\n",
       " <selenium.webdriver.remote.webelement.WebElement (session=\"f154fa365da22a0f14cfbe9438398be2\", element=\"9360e675-2413-40fb-b7da-14ecdc3ec106\")>]"
      ]
     },
     "execution_count": 25,
     "metadata": {},
     "output_type": "execute_result"
    }
   ],
   "source": [
    "rating_tags=driver.find_elements_by_xpath(\"//span[@class='body-small']\")\n",
    "rating_tags[0:4]"
   ]
  },
  {
   "cell_type": "code",
   "execution_count": 26,
   "id": "53d3066d",
   "metadata": {},
   "outputs": [
    {
     "data": {
      "text/plain": [
       "['', '', '', '']"
      ]
     },
     "execution_count": 26,
     "metadata": {},
     "output_type": "execute_result"
    }
   ],
   "source": [
    "for i in rating_tags:\n",
    "    try:\n",
    "        rating=i.text\n",
    "        Company_Rating.append(rating)\n",
    "    except:\n",
    "        Company_Rating.append(\"-\")\n",
    "Company_Rating[0:4]"
   ]
  },
  {
   "cell_type": "code",
   "execution_count": 27,
   "id": "d06a1318",
   "metadata": {},
   "outputs": [
    {
     "name": "stdout",
     "output_type": "stream",
     "text": [
      "10 20 22\n"
     ]
    }
   ],
   "source": [
    "print(len(Company_Name),len(Days),len(Company_Rating))"
   ]
  },
  {
   "cell_type": "code",
   "execution_count": 30,
   "id": "3449cc28",
   "metadata": {},
   "outputs": [],
   "source": [
    "import pandas as pd"
   ]
  },
  {
   "cell_type": "code",
   "execution_count": 31,
   "id": "cb91b362",
   "metadata": {},
   "outputs": [],
   "source": [
    "Data_Scientist_Job_Details=pd.DataFrame({})"
   ]
  },
  {
   "cell_type": "code",
   "execution_count": 32,
   "id": "6bbc69bb",
   "metadata": {},
   "outputs": [],
   "source": [
    "Data_Scientist_Job_Details['name']=pd.Series(Company_Name)\n",
    "Data_Scientist_Job_Details['days before posted']=pd.Series(Days)\n",
    "Data_Scientist_Job_Details['rating']=pd.Series(Company_Rating)"
   ]
  },
  {
   "cell_type": "code",
   "execution_count": 33,
   "id": "25a0107e",
   "metadata": {},
   "outputs": [
    {
     "data": {
      "text/html": [
       "<div>\n",
       "<style scoped>\n",
       "    .dataframe tbody tr th:only-of-type {\n",
       "        vertical-align: middle;\n",
       "    }\n",
       "\n",
       "    .dataframe tbody tr th {\n",
       "        vertical-align: top;\n",
       "    }\n",
       "\n",
       "    .dataframe thead th {\n",
       "        text-align: right;\n",
       "    }\n",
       "</style>\n",
       "<table border=\"1\" class=\"dataframe\">\n",
       "  <thead>\n",
       "    <tr style=\"text-align: right;\">\n",
       "      <th></th>\n",
       "      <th>name</th>\n",
       "      <th>days before posted</th>\n",
       "      <th>rating</th>\n",
       "    </tr>\n",
       "  </thead>\n",
       "  <tbody>\n",
       "    <tr>\n",
       "      <th>0</th>\n",
       "      <td>GENPACT India Private Limited</td>\n",
       "      <td>4d ago</td>\n",
       "      <td></td>\n",
       "    </tr>\n",
       "    <tr>\n",
       "      <th>1</th>\n",
       "      <td>GENPACT India Private Limited</td>\n",
       "      <td>via naukri.com</td>\n",
       "      <td></td>\n",
       "    </tr>\n",
       "    <tr>\n",
       "      <th>2</th>\n",
       "      <td>Tech Mahindra Ltd</td>\n",
       "      <td>9d ago</td>\n",
       "      <td></td>\n",
       "    </tr>\n",
       "    <tr>\n",
       "      <th>3</th>\n",
       "      <td>GENPACT India Private Limited</td>\n",
       "      <td>via naukri.com</td>\n",
       "      <td></td>\n",
       "    </tr>\n",
       "    <tr>\n",
       "      <th>4</th>\n",
       "      <td>HCL Technologies</td>\n",
       "      <td>23d ago</td>\n",
       "      <td></td>\n",
       "    </tr>\n",
       "    <tr>\n",
       "      <th>5</th>\n",
       "      <td>Bristlecone India Limited</td>\n",
       "      <td>via naukri.com</td>\n",
       "      <td></td>\n",
       "    </tr>\n",
       "    <tr>\n",
       "      <th>6</th>\n",
       "      <td>Zyoin</td>\n",
       "      <td>26d ago</td>\n",
       "      <td></td>\n",
       "    </tr>\n",
       "    <tr>\n",
       "      <th>7</th>\n",
       "      <td>Newgen Software Technologies Ltd.</td>\n",
       "      <td>via naukri.com</td>\n",
       "      <td></td>\n",
       "    </tr>\n",
       "    <tr>\n",
       "      <th>8</th>\n",
       "      <td>Pitney Bowes India Pvt Ltd</td>\n",
       "      <td>30d ago</td>\n",
       "      <td></td>\n",
       "    </tr>\n",
       "    <tr>\n",
       "      <th>9</th>\n",
       "      <td>JK Technosoft Ltd</td>\n",
       "      <td>via naukri.com</td>\n",
       "      <td></td>\n",
       "    </tr>\n",
       "  </tbody>\n",
       "</table>\n",
       "</div>"
      ],
      "text/plain": [
       "                                name days before posted rating\n",
       "0      GENPACT India Private Limited             4d ago       \n",
       "1      GENPACT India Private Limited     via naukri.com       \n",
       "2                  Tech Mahindra Ltd             9d ago       \n",
       "3      GENPACT India Private Limited     via naukri.com       \n",
       "4                   HCL Technologies            23d ago       \n",
       "5          Bristlecone India Limited     via naukri.com       \n",
       "6                              Zyoin            26d ago       \n",
       "7  Newgen Software Technologies Ltd.     via naukri.com       \n",
       "8         Pitney Bowes India Pvt Ltd            30d ago       \n",
       "9                  JK Technosoft Ltd     via naukri.com       "
      ]
     },
     "execution_count": 33,
     "metadata": {},
     "output_type": "execute_result"
    }
   ],
   "source": [
    "Data_Scientist_Job_Details"
   ]
  },
  {
   "cell_type": "code",
   "execution_count": null,
   "id": "de4e9b8c",
   "metadata": {},
   "outputs": [],
   "source": []
  }
 ],
 "metadata": {
  "kernelspec": {
   "display_name": "Python 3",
   "language": "python",
   "name": "python3"
  },
  "language_info": {
   "codemirror_mode": {
    "name": "ipython",
    "version": 3
   },
   "file_extension": ".py",
   "mimetype": "text/x-python",
   "name": "python",
   "nbconvert_exporter": "python",
   "pygments_lexer": "ipython3",
   "version": "3.8.8"
  }
 },
 "nbformat": 4,
 "nbformat_minor": 5
}
