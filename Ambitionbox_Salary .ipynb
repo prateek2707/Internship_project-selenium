{
 "cells": [
  {
   "cell_type": "code",
   "execution_count": 1,
   "id": "59a2461b",
   "metadata": {},
   "outputs": [],
   "source": [
    "import pandas as pd\n",
    "import warnings\n",
    "warnings.filterwarnings(\"ignore\")\n",
    "import time"
   ]
  },
  {
   "cell_type": "code",
   "execution_count": 2,
   "id": "f7fcd87a",
   "metadata": {},
   "outputs": [],
   "source": [
    "from selenium import webdriver\n",
    "driver = webdriver.Chrome()\n",
    "driver.get(\"https://www.ambitionbox.com/\")"
   ]
  },
  {
   "cell_type": "code",
   "execution_count": 3,
   "id": "0b2fda31",
   "metadata": {},
   "outputs": [],
   "source": [
    "Salaries_button=driver.find_element_by_xpath('/html/body/div[1]/nav/nav/a[4]')\n",
    "Salaries_button.click()"
   ]
  },
  {
   "cell_type": "code",
   "execution_count": 12,
   "id": "1924951a",
   "metadata": {},
   "outputs": [],
   "source": [
    "search_field_designation=driver.find_element_by_xpath(\"/html/body/div/div/div/main/section[1]/div[2]/div[1]/span/input\")\n",
    "search_field_designation.send_keys(\"Data Scientist\")"
   ]
  },
  {
   "cell_type": "code",
   "execution_count": null,
   "id": "eb89a747",
   "metadata": {},
   "outputs": [],
   "source": [
    "Data_Scientist_field_designation=driver.find_element_by_xpath(\"/html/body/div/div/div/main/section[1]/div[2]/div[1]/span/div/div/div[1]/div\")\n",
    "Data_Scientist_field_designation.click()"
   ]
  },
  {
   "cell_type": "code",
   "execution_count": 14,
   "id": "00b46934",
   "metadata": {},
   "outputs": [],
   "source": [
    "search_button=driver.find_element_by_xpath('/html/body/div/div/div/div[2]/div[1]/div[1]/div/div/div/button/span')\n",
    "search_button.click()"
   ]
  },
  {
   "cell_type": "code",
   "execution_count": 15,
   "id": "ba831935",
   "metadata": {},
   "outputs": [],
   "source": [
    "location_button=driver.find_element_by_xpath('/html/body/div/div/div/div[2]/div[1]/div[2]/div[1]/div/div/div/div[2]/div[1]/p')\n",
    "location_button.click()"
   ]
  },
  {
   "cell_type": "code",
   "execution_count": null,
   "id": "de799f2f",
   "metadata": {},
   "outputs": [],
   "source": []
  },
  {
   "cell_type": "code",
   "execution_count": 16,
   "id": "5b82028b",
   "metadata": {},
   "outputs": [],
   "source": []
  },
  {
   "cell_type": "code",
   "execution_count": 17,
   "id": "e64382a1",
   "metadata": {},
   "outputs": [],
   "source": [
    "selecting_Noida_button=driver.find_element_by_xpath('/html/body/div/div/div/div[2]/div[1]/div[2]/div[1]/div/div/div/div[2]/div[2]/div/div[3]/div[1]/div[1]/div/label')\n",
    "selecting_Noida_button.click()"
   ]
  },
  {
   "cell_type": "code",
   "execution_count": 18,
   "id": "ce225260",
   "metadata": {},
   "outputs": [],
   "source": [
    "Company_Name=[]\n",
    "Days=[]\n",
    "Company_Rating=[]"
   ]
  },
  {
   "cell_type": "code",
   "execution_count": 19,
   "id": "8f79f7e2",
   "metadata": {},
   "outputs": [
    {
     "data": {
      "text/plain": [
       "[<selenium.webdriver.remote.webelement.WebElement (session=\"f154fa365da22a0f14cfbe9438398be2\", element=\"e5515c7e-de02-4add-b65e-37adac53b8b3\")>,\n",
       " <selenium.webdriver.remote.webelement.WebElement (session=\"f154fa365da22a0f14cfbe9438398be2\", element=\"d7c03f74-eb7d-45e6-a81e-f0c6c9344ccd\")>,\n",
       " <selenium.webdriver.remote.webelement.WebElement (session=\"f154fa365da22a0f14cfbe9438398be2\", element=\"9ef2da37-3375-4b19-acc6-9ad5ee532623\")>,\n",
       " <selenium.webdriver.remote.webelement.WebElement (session=\"f154fa365da22a0f14cfbe9438398be2\", element=\"bd98088c-4ce6-44d9-a826-e42d87d4b69b\")>]"
      ]
     },
     "execution_count": 19,
     "metadata": {},
     "output_type": "execute_result"
    }
   ],
   "source": [
    "company_tags=driver.find_elements_by_xpath(\"//p[@class='company body-medium']\")\n",
    "company_tags[0:4]"
   ]
  },
  {
   "cell_type": "code",
   "execution_count": 20,
   "id": "dfc39eef",
   "metadata": {},
   "outputs": [
    {
     "data": {
      "text/plain": [
       "['GENPACT India Private Limited',\n",
       " 'GENPACT India Private Limited',\n",
       " 'Tech Mahindra Ltd',\n",
       " 'GENPACT India Private Limited']"
      ]
     },
     "execution_count": 20,
     "metadata": {},
     "output_type": "execute_result"
    }
   ],
   "source": [
    "for i in company_tags:\n",
    "    try:\n",
    "        company=i.text\n",
    "        Company_Name.append(company)\n",
    "    except:\n",
    "        Company_Name.append(\"-\")\n",
    "Company_Name[0:4]"
   ]
  },
  {
   "cell_type": "code",
   "execution_count": 28,
   "id": "db28f8cd",
   "metadata": {},
   "outputs": [
    {
     "data": {
      "text/plain": [
       "[<selenium.webdriver.remote.webelement.WebElement (session=\"f154fa365da22a0f14cfbe9438398be2\", element=\"0e4ff422-39a5-49d9-8a97-a006d1e56e96\")>,\n",
       " <selenium.webdriver.remote.webelement.WebElement (session=\"f154fa365da22a0f14cfbe9438398be2\", element=\"e4278850-109a-455b-ac25-fb3e6fa82350\")>,\n",
       " <selenium.webdriver.remote.webelement.WebElement (session=\"f154fa365da22a0f14cfbe9438398be2\", element=\"543c76fb-51e6-4e3d-92cd-f54d7a7e8da7\")>,\n",
       " <selenium.webdriver.remote.webelement.WebElement (session=\"f154fa365da22a0f14cfbe9438398be2\", element=\"9360e675-2413-40fb-b7da-14ecdc3ec106\")>]"
      ]
     },
     "execution_count": 28,
     "metadata": {},
     "output_type": "execute_result"
    }
   ],
   "source": [
    "days_tags=driver.find_elements_by_xpath(\"//span[@class='body-small']\")\n",
    "days_tags[0:4]"
   ]
  },
  {
   "cell_type": "code",
   "execution_count": 29,
   "id": "6e7b2c23",
   "metadata": {},
   "outputs": [
    {
     "data": {
      "text/plain": [
       "['4d ago', 'via naukri.com', '9d ago', 'via naukri.com']"
      ]
     },
     "execution_count": 29,
     "metadata": {},
     "output_type": "execute_result"
    }
   ],
   "source": [
    "for i in days_tags:\n",
    "    try:\n",
    "        days=i.text\n",
    "        Days.append(days)\n",
    "    except:\n",
    "        Days.append(\"-\") \n",
    "Days[0:4]"
   ]
  },
  {
   "cell_type": "code",
   "execution_count": 25,
   "id": "4d3431d0",
   "metadata": {},
   "outputs": [
    {
     "data": {
      "text/plain": [
       "[<selenium.webdriver.remote.webelement.WebElement (session=\"f154fa365da22a0f14cfbe9438398be2\", element=\"0e4ff422-39a5-49d9-8a97-a006d1e56e96\")>,\n",
       " <selenium.webdriver.remote.webelement.WebElement (session=\"f154fa365da22a0f14cfbe9438398be2\", element=\"e4278850-109a-455b-ac25-fb3e6fa82350\")>,\n",
       " <selenium.webdriver.remote.webelement.WebElement (session=\"f154fa365da22a0f14cfbe9438398be2\", element=\"543c76fb-51e6-4e3d-92cd-f54d7a7e8da7\")>,\n",
       " <selenium.webdriver.remote.webelement.WebElement (session=\"f154fa365da22a0f14cfbe9438398be2\", element=\"9360e675-2413-40fb-b7da-14ecdc3ec106\")>]"
      ]
     },
     "execution_count": 25,
     "metadata": {},
     "output_type": "execute_result"
    }
   ],
   "source": [
    "rating_tags=driver.find_elements_by_xpath(\"//span[@class='body-small']\")\n",
    "rating_tags[0:4]"
   ]
  },
  {
   "cell_type": "code",
   "execution_count": 26,
   "id": "1bc928dc",
   "metadata": {},
   "outputs": [
    {
     "data": {
      "text/plain": [
       "['', '', '', '']"
      ]
     },
     "execution_count": 26,
     "metadata": {},
     "output_type": "execute_result"
    }
   ],
   "source": [
    "for i in rating_tags:\n",
    "    try:\n",
    "        rating=i.text\n",
    "        Company_Rating.append(rating)\n",
    "    except:\n",
    "        Company_Rating.append(\"-\")\n",
    "Company_Rating[0:4]"
   ]
  },
  {
   "cell_type": "code",
   "execution_count": 27,
   "id": "bb6bcc57",
   "metadata": {},
   "outputs": [
    {
     "name": "stdout",
     "output_type": "stream",
     "text": [
      "10 20 22\n"
     ]
    }
   ],
   "source": [
    "print(len(Company_Name),len(Days),len(Company_Rating))"
   ]
  },
  {
   "cell_type": "code",
   "execution_count": null,
   "id": "0cd34b59",
   "metadata": {},
   "outputs": [],
   "source": [
    "import pandas as pd"
   ]
  },
  {
   "cell_type": "code",
   "execution_count": null,
   "id": "921f4b74",
   "metadata": {},
   "outputs": [],
   "source": [
    "Data_Scientist_Job_Details=pd.DataFrame({})"
   ]
  },
  {
   "cell_type": "code",
   "execution_count": null,
   "id": "6b9095c8",
   "metadata": {},
   "outputs": [],
   "source": [
    "Data_Scientist_Job_Details['name']=pd.Series(Company_Name)\n",
    "Data_Scientist_Job_Details['days before posted']=pd.Series(Days)\n",
    "Data_Scientist_Job_Details['rating']=pd.Series(Company_Rating)"
   ]
  },
  {
   "cell_type": "code",
   "execution_count": null,
   "id": "5bba1a30",
   "metadata": {},
   "outputs": [],
   "source": [
    "Data_Scientist_Job_Details"
   ]
  },
  {
   "cell_type": "code",
   "execution_count": null,
   "id": "c04efa35",
   "metadata": {},
   "outputs": [],
   "source": []
  }
 ],
 "metadata": {
  "kernelspec": {
   "display_name": "Python 3",
   "language": "python",
   "name": "python3"
  },
  "language_info": {
   "codemirror_mode": {
    "name": "ipython",
    "version": 3
   },
   "file_extension": ".py",
   "mimetype": "text/x-python",
   "name": "python",
   "nbconvert_exporter": "python",
   "pygments_lexer": "ipython3",
   "version": "3.8.8"
  }
 },
 "nbformat": 4,
 "nbformat_minor": 5
}
