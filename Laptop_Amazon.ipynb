{
 "cells": [
  {
   "cell_type": "code",
   "execution_count": 1,
   "id": "1cd50bff",
   "metadata": {},
   "outputs": [],
   "source": [
    "import warnings\n",
    "warnings.filterwarnings(\"ignore\")\n",
    "import pandas as pd"
   ]
  },
  {
   "cell_type": "code",
   "execution_count": 7,
   "id": "59ca5490",
   "metadata": {},
   "outputs": [],
   "source": [
    "from selenium import webdriver\n",
    "driver = webdriver.Chrome()\n",
    "driver.get(\"https://www.amazon.in/\")"
   ]
  },
  {
   "cell_type": "code",
   "execution_count": 11,
   "id": "c6497f71",
   "metadata": {},
   "outputs": [],
   "source": [
    "search_field_designation=driver.find_element_by_id(\"twotabsearchtextbox\")\n",
    "search_field_designation.send_keys(\"Laptop\")"
   ]
  },
  {
   "cell_type": "code",
   "execution_count": 12,
   "id": "9e8291da",
   "metadata": {},
   "outputs": [],
   "source": [
    "search_button=driver.find_element_by_xpath('/html/body/div[1]/header/div/div[1]/div[2]/div/form/div[3]/div/span/input')\n",
    "search_button.click()"
   ]
  },
  {
   "cell_type": "code",
   "execution_count": 13,
   "id": "daafb121",
   "metadata": {},
   "outputs": [],
   "source": [
    "Title_Description=[]\n",
    "Ratings_Description=[]\n",
    "Price_Description=[]"
   ]
  },
  {
   "cell_type": "code",
   "execution_count": 14,
   "id": "da091f97",
   "metadata": {},
   "outputs": [
    {
     "data": {
      "text/plain": [
       "[<selenium.webdriver.remote.webelement.WebElement (session=\"4b36499d21e83b386eb6123b5a78579d\", element=\"a289efd9-1f3f-4ece-a707-48fb81c487a1\")>,\n",
       " <selenium.webdriver.remote.webelement.WebElement (session=\"4b36499d21e83b386eb6123b5a78579d\", element=\"c88a6402-8d6e-41e6-b301-cb039eb47e40\")>,\n",
       " <selenium.webdriver.remote.webelement.WebElement (session=\"4b36499d21e83b386eb6123b5a78579d\", element=\"6d78db69-f4b4-4965-b7a2-133f548577f0\")>,\n",
       " <selenium.webdriver.remote.webelement.WebElement (session=\"4b36499d21e83b386eb6123b5a78579d\", element=\"7f579415-1a9b-4c43-ae91-be3c1e7a4c71\")>]"
      ]
     },
     "execution_count": 14,
     "metadata": {},
     "output_type": "execute_result"
    }
   ],
   "source": [
    "title_tags=driver.find_elements_by_xpath(\"//h2[@class='a-size-mini a-spacing-none a-color-base s-line-clamp-2']\")\n",
    "title_tags[0:4]"
   ]
  },
  {
   "cell_type": "code",
   "execution_count": 15,
   "id": "26cba4d0",
   "metadata": {},
   "outputs": [
    {
     "data": {
      "text/plain": [
       "['Acer Predator Helios 300 11th Gen Intel Core i9-11900H 15.6\" (39.62cms) FHD IPS Gaming Laptop (16 GB/1TB SSD/Win 11 Home/6 GB Graphics/NVIDIA GeForce RTX 3060/360 Hz, Black, 2.3 kg) PH315-54',\n",
       " 'Acer Predator Helios 300 11th Gen Intel Core i9-11900H 15.6\" (39.62cms) FHD IPS Gaming Laptop (16 GB/1TB SSD/Win 11 Home/6 GB Graphics/NVIDIA GeForce RTX 3060/360 Hz, Black, 2.3 kg) PH315-54',\n",
       " 'ASUS ROG Strix SCAR 15 (2022), 15.6-inch (39.62 cms) 2K WQHD 240Hz/3ms, Core i9-12900H 12th Gen, RTX 3080 Ti 16GB Graphics, Gaming Laptop (32GB/1TB SSD/Win 11/Office 2021/Black/2.3 Kg), G533ZX-LN024WS',\n",
       " 'ASUS ROG Strix Scar 15 (2022), 15.6\" (39.62 cms) 2K WQHD 240Hz/3ms, Intel Core i9-12900H 12th Gen, RTX 3070 Ti 8GB Graphics, Gaming Laptop (32GB/1TB SSD/Win 11/Office 2021/Black/2.3 kg) G533ZW-LN136WS']"
      ]
     },
     "execution_count": 15,
     "metadata": {},
     "output_type": "execute_result"
    }
   ],
   "source": [
    "for i in title_tags:\n",
    "    try:\n",
    "        title=i.text\n",
    "        Title_Description.append(title)\n",
    "    except:\n",
    "        Title_Description.append(\"-\")\n",
    "Title_Description[0:4]"
   ]
  },
  {
   "cell_type": "code",
   "execution_count": 36,
   "id": "e79281be",
   "metadata": {},
   "outputs": [
    {
     "data": {
      "text/plain": [
       "[<selenium.webdriver.remote.webelement.WebElement (session=\"4b36499d21e83b386eb6123b5a78579d\", element=\"1c0b9032-f9ab-411f-9a5c-e7144749f5f0\")>,\n",
       " <selenium.webdriver.remote.webelement.WebElement (session=\"4b36499d21e83b386eb6123b5a78579d\", element=\"a2f6642b-4de5-4f97-9e7b-2ba9971bb38d\")>,\n",
       " <selenium.webdriver.remote.webelement.WebElement (session=\"4b36499d21e83b386eb6123b5a78579d\", element=\"ab1ebef0-f08d-4fd6-b02f-8df31a4364a7\")>,\n",
       " <selenium.webdriver.remote.webelement.WebElement (session=\"4b36499d21e83b386eb6123b5a78579d\", element=\"602c4e29-3f36-4f75-b79f-9bd9f53cb5e4\")>]"
      ]
     },
     "execution_count": 36,
     "metadata": {},
     "output_type": "execute_result"
    }
   ],
   "source": [
    "rating_tags=driver.find_elements_by_xpath(\"//div[@class='a-row a-size-small']\")\n",
    "rating_tags[0:4]"
   ]
  },
  {
   "cell_type": "code",
   "execution_count": 37,
   "id": "54ee20ea",
   "metadata": {},
   "outputs": [
    {
     "data": {
      "text/plain": [
       "['', '', '', '']"
      ]
     },
     "execution_count": 37,
     "metadata": {},
     "output_type": "execute_result"
    }
   ],
   "source": [
    "for i in rating_tags:\n",
    "    try:\n",
    "        rating=i.text\n",
    "        Ratings_Description.append(rating)\n",
    "    except:\n",
    "        Ratings_Description.append(\"-\") \n",
    "Ratings_Description[0:4]"
   ]
  },
  {
   "cell_type": "code",
   "execution_count": 38,
   "id": "69a30fc9",
   "metadata": {},
   "outputs": [
    {
     "data": {
      "text/plain": [
       "[<selenium.webdriver.remote.webelement.WebElement (session=\"4b36499d21e83b386eb6123b5a78579d\", element=\"d1c9dd57-418e-490f-a969-f5f0db35316c\")>,\n",
       " <selenium.webdriver.remote.webelement.WebElement (session=\"4b36499d21e83b386eb6123b5a78579d\", element=\"f052175f-0a1e-4851-89e5-e6031b77304e\")>,\n",
       " <selenium.webdriver.remote.webelement.WebElement (session=\"4b36499d21e83b386eb6123b5a78579d\", element=\"248ca7f1-5e2b-4ca7-8e90-33e5f880ddea\")>,\n",
       " <selenium.webdriver.remote.webelement.WebElement (session=\"4b36499d21e83b386eb6123b5a78579d\", element=\"a44b646f-ad0a-4f6c-8125-eba8df61fc50\")>]"
      ]
     },
     "execution_count": 38,
     "metadata": {},
     "output_type": "execute_result"
    }
   ],
   "source": [
    "price_tags=driver.find_elements_by_xpath(\"//span[@class='a-price-whole']\")\n",
    "price_tags[0:4]"
   ]
  },
  {
   "cell_type": "code",
   "execution_count": 39,
   "id": "d3d0840d",
   "metadata": {},
   "outputs": [
    {
     "data": {
      "text/plain": [
       "['1,44,990', '1,44,990', '3,01,521', '2,34,194']"
      ]
     },
     "execution_count": 39,
     "metadata": {},
     "output_type": "execute_result"
    }
   ],
   "source": [
    "for i in price_tags:\n",
    "    try:\n",
    "        price=i.text\n",
    "        Price_Description.append(price)\n",
    "    except:\n",
    "        Price_Description.append(\"-\")\n",
    "Price_Description[0:4]"
   ]
  },
  {
   "cell_type": "code",
   "execution_count": 40,
   "id": "faeb161f",
   "metadata": {},
   "outputs": [
    {
     "name": "stdout",
     "output_type": "stream",
     "text": [
      "12 23 22\n"
     ]
    }
   ],
   "source": [
    "print(len(Title_Description),len(Ratings_Description),len(Price_Description))"
   ]
  },
  {
   "cell_type": "code",
   "execution_count": 41,
   "id": "63e3888f",
   "metadata": {},
   "outputs": [],
   "source": [
    "import pandas as pd"
   ]
  },
  {
   "cell_type": "code",
   "execution_count": 42,
   "id": "fd12cced",
   "metadata": {},
   "outputs": [],
   "source": [
    "Laptop_Details=pd.DataFrame({})"
   ]
  },
  {
   "cell_type": "code",
   "execution_count": 43,
   "id": "e6def672",
   "metadata": {},
   "outputs": [],
   "source": [
    "Laptop_Details['title']=pd.Series(Title_Description)\n",
    "Laptop_Details['rating']=pd.Series(Ratings_Description)\n",
    "Laptop_Details['price']=pd.Series(Price_Description)"
   ]
  },
  {
   "cell_type": "code",
   "execution_count": 44,
   "id": "759d297a",
   "metadata": {},
   "outputs": [
    {
     "data": {
      "text/html": [
       "<div>\n",
       "<style scoped>\n",
       "    .dataframe tbody tr th:only-of-type {\n",
       "        vertical-align: middle;\n",
       "    }\n",
       "\n",
       "    .dataframe tbody tr th {\n",
       "        vertical-align: top;\n",
       "    }\n",
       "\n",
       "    .dataframe thead th {\n",
       "        text-align: right;\n",
       "    }\n",
       "</style>\n",
       "<table border=\"1\" class=\"dataframe\">\n",
       "  <thead>\n",
       "    <tr style=\"text-align: right;\">\n",
       "      <th></th>\n",
       "      <th>title</th>\n",
       "      <th>rating</th>\n",
       "      <th>price</th>\n",
       "    </tr>\n",
       "  </thead>\n",
       "  <tbody>\n",
       "    <tr>\n",
       "      <th>0</th>\n",
       "      <td>Acer Predator Helios 300 11th Gen Intel Core i...</td>\n",
       "      <td></td>\n",
       "      <td>1,44,990</td>\n",
       "    </tr>\n",
       "    <tr>\n",
       "      <th>1</th>\n",
       "      <td>Acer Predator Helios 300 11th Gen Intel Core i...</td>\n",
       "      <td></td>\n",
       "      <td>1,44,990</td>\n",
       "    </tr>\n",
       "    <tr>\n",
       "      <th>2</th>\n",
       "      <td>ASUS ROG Strix SCAR 15 (2022), 15.6-inch (39.6...</td>\n",
       "      <td></td>\n",
       "      <td>3,01,521</td>\n",
       "    </tr>\n",
       "    <tr>\n",
       "      <th>3</th>\n",
       "      <td>ASUS ROG Strix Scar 15 (2022), 15.6\" (39.62 cm...</td>\n",
       "      <td></td>\n",
       "      <td>2,34,194</td>\n",
       "    </tr>\n",
       "    <tr>\n",
       "      <th>4</th>\n",
       "      <td>ASUS ROG Strix Scar 15 (2022), 15.6-inch (39.6...</td>\n",
       "      <td></td>\n",
       "      <td>2,85,990</td>\n",
       "    </tr>\n",
       "    <tr>\n",
       "      <th>5</th>\n",
       "      <td>HP Envy 15- 11th Gen Intel Core i9/32GB/1TB SS...</td>\n",
       "      <td></td>\n",
       "      <td>2,02,990</td>\n",
       "    </tr>\n",
       "    <tr>\n",
       "      <th>6</th>\n",
       "      <td>ASUS ROG Zephyrus M16 (2022), 16-inch (40.64 c...</td>\n",
       "      <td></td>\n",
       "      <td>3,31,990</td>\n",
       "    </tr>\n",
       "    <tr>\n",
       "      <th>7</th>\n",
       "      <td>ASUS TUF Gaming F15 (2021), 15.6\" (39.62 cms) ...</td>\n",
       "      <td></td>\n",
       "      <td>1,69,990</td>\n",
       "    </tr>\n",
       "    <tr>\n",
       "      <th>8</th>\n",
       "      <td>ASUS ROG Strix Scar 17 (2022), 17.3-inch (43.9...</td>\n",
       "      <td></td>\n",
       "      <td>1,38,000</td>\n",
       "    </tr>\n",
       "    <tr>\n",
       "      <th>9</th>\n",
       "      <td>(Renewed) HP Omen 15-dh0139TX Gaming Laptop (9...</td>\n",
       "      <td></td>\n",
       "      <td>2,25,000</td>\n",
       "    </tr>\n",
       "    <tr>\n",
       "      <th>10</th>\n",
       "      <td>Dell Precision 5550 || i9 -10885H || 16GB || 1...</td>\n",
       "      <td></td>\n",
       "      <td>2,26,000</td>\n",
       "    </tr>\n",
       "    <tr>\n",
       "      <th>11</th>\n",
       "      <td>HP Zbook - Intel i9 14 inch(35.6 cm)FHD, Thin ...</td>\n",
       "      <td></td>\n",
       "      <td>1,44,990</td>\n",
       "    </tr>\n",
       "  </tbody>\n",
       "</table>\n",
       "</div>"
      ],
      "text/plain": [
       "                                                title rating     price\n",
       "0   Acer Predator Helios 300 11th Gen Intel Core i...         1,44,990\n",
       "1   Acer Predator Helios 300 11th Gen Intel Core i...         1,44,990\n",
       "2   ASUS ROG Strix SCAR 15 (2022), 15.6-inch (39.6...         3,01,521\n",
       "3   ASUS ROG Strix Scar 15 (2022), 15.6\" (39.62 cm...         2,34,194\n",
       "4   ASUS ROG Strix Scar 15 (2022), 15.6-inch (39.6...         2,85,990\n",
       "5   HP Envy 15- 11th Gen Intel Core i9/32GB/1TB SS...         2,02,990\n",
       "6   ASUS ROG Zephyrus M16 (2022), 16-inch (40.64 c...         3,31,990\n",
       "7   ASUS TUF Gaming F15 (2021), 15.6\" (39.62 cms) ...         1,69,990\n",
       "8   ASUS ROG Strix Scar 17 (2022), 17.3-inch (43.9...         1,38,000\n",
       "9   (Renewed) HP Omen 15-dh0139TX Gaming Laptop (9...         2,25,000\n",
       "10  Dell Precision 5550 || i9 -10885H || 16GB || 1...         2,26,000\n",
       "11  HP Zbook - Intel i9 14 inch(35.6 cm)FHD, Thin ...         1,44,990"
      ]
     },
     "execution_count": 44,
     "metadata": {},
     "output_type": "execute_result"
    }
   ],
   "source": [
    "Laptop_Details"
   ]
  }
 ],
 "metadata": {
  "kernelspec": {
   "display_name": "Python 3",
   "language": "python",
   "name": "python3"
  },
  "language_info": {
   "codemirror_mode": {
    "name": "ipython",
    "version": 3
   },
   "file_extension": ".py",
   "mimetype": "text/x-python",
   "name": "python",
   "nbconvert_exporter": "python",
   "pygments_lexer": "ipython3",
   "version": "3.8.8"
  }
 },
 "nbformat": 4,
 "nbformat_minor": 5
}
