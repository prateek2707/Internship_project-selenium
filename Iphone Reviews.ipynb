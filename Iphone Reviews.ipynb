{
 "cells": [
  {
   "cell_type": "code",
   "execution_count": 116,
   "id": "7cac9227",
   "metadata": {},
   "outputs": [],
   "source": [
    "import pandas as pd\n",
    "import warnings\n",
    "warnings.filterwarnings(\"ignore\")\n",
    "import time"
   ]
  },
  {
   "cell_type": "code",
   "execution_count": 117,
   "id": "5387aa0e",
   "metadata": {},
   "outputs": [],
   "source": [
    "from selenium import webdriver\n",
    "driver = webdriver.Chrome()\n",
    "driver.get(\"https://www.flipkart.com/apple-iphone-11-black-64-gb-includes- earpods-power- adapter/p/itm0f37c2240b217?pid=MOBFKCTSVZAXUHGR&lid=LSTMOBFKC TSVZAXUHGREPBFGI&marketplace\")"
   ]
  },
  {
   "cell_type": "code",
   "execution_count": 118,
   "id": "bb2e9da2",
   "metadata": {},
   "outputs": [],
   "source": [
    "Rating=[]\n",
    "Review_Summary=[]\n",
    "Full_Summary=[]"
   ]
  },
  {
   "cell_type": "code",
   "execution_count": 119,
   "id": "da394f32",
   "metadata": {},
   "outputs": [],
   "source": [
    "review_button=driver.find_element_by_xpath('/html/body/div[1]/div/div[3]/div[1]/div[2]/div[2]/div/div[2]/div/div/span[2]/span/span[3]')\n",
    "review_button.click()"
   ]
  },
  {
   "cell_type": "code",
   "execution_count": 120,
   "id": "655191a9",
   "metadata": {},
   "outputs": [],
   "source": [
    "all_review_button=driver.find_element_by_xpath('/html/body/div[1]/div/div[3]/div[1]/div[2]/div[9]/div/div/div[5]/div/a/div/span')\n",
    "all_review_button.click()"
   ]
  },
  {
   "cell_type": "code",
   "execution_count": 121,
   "id": "c0e04a43",
   "metadata": {},
   "outputs": [],
   "source": [
    "count=0\n",
    "while count<100:\n",
    "    rating_tags=driver.find_elements_by_xpath(\"//div[@class='_3LWZlK _1BLPMq']\")\n",
    "    review_tags=driver.find_elements_by_xpath(\"//p[@class='_2-N8zT']\")\n",
    "    full_review_tags=driver.find_elements_by_xpath(\"//div[@class='t-ZTKy']\")\n",
    "    for i in range(len(rating_tags)):\n",
    "        count += 1\n",
    "        if count == 101:\n",
    "            break\n",
    "        else:\n",
    "            Rating.append(rating_tags[i].text)\n",
    "            Review_Summary.append(review_tags[i].text)\n",
    "            Full_Summary.append(full_review_tags[i].text[1:])\n",
    "next_review_button=driver.find_element_by_xpath('/html/body/div[1]/div/div[3]/div/div/div[2]/div[13]/div/div/nav/a[11]/span')\n",
    "next_review_button.click()\n",
    "time.sleep(5)\n",
    "next_review_button=driver.find_element_by_xpath('/html/body/div[1]/div/div[3]/div/div/div[2]/div[13]/div/div/nav/a[12]/span')\n",
    "next_review_button.click()\n",
    "time.sleep(5)\n",
    "next_review_button=driver.find_element_by_xpath('/html/body/div[1]/div/div[3]/div/div/div[2]/div[13]/div/div/nav/a[12]/span')\n",
    "next_review_button.click()\n",
    "time.sleep(5)\n",
    "next_review_button=driver.find_element_by_xpath('/html/body/div[1]/div/div[3]/div/div/div[2]/div[13]/div/div/nav/a[12]/span')\n",
    "next_review_button.click()\n",
    "time.sleep(5)\n",
    "next_review_button=driver.find_element_by_xpath('/html/body/div[1]/div/div[3]/div/div/div[2]/div[13]/div/div/nav/a[12]/span')\n",
    "next_review_button.click()\n",
    "time.sleep(5)\n",
    "next_review_button=driver.find_element_by_xpath('/html/body/div[1]/div/div[3]/div/div/div[2]/div[13]/div/div/nav/a[12]/span')\n",
    "next_review_button.click()\n",
    "time.sleep(5)\n",
    "next_review_button=driver.find_element_by_xpath('/html/body/div[1]/div/div[3]/div/div/div[2]/div[13]/div/div/nav/a[12]/span')\n",
    "next_review_button.click()\n",
    "time.sleep(5)\n",
    "next_review_button=driver.find_element_by_xpath('/html/body/div[1]/div/div[3]/div/div/div[2]/div[13]/div/div/nav/a[12]/span')\n",
    "next_review_button.click()\n",
    "time.sleep(5)\n",
    "next_review_button=driver.find_element_by_xpath('/html/body/div[1]/div/div[3]/div/div/div[2]/div[13]/div/div/nav/a[12]/span')\n",
    "next_review_button.click()\n",
    "time.sleep(5)\n",
    "next_review_button=driver.find_element_by_xpath('/html/body/div[1]/div/div[3]/div/div/div[2]/div[13]/div/div/nav/a[12]/span')\n",
    "next_review_button.click()\n",
    "time.sleep(5)"
   ]
  },
  {
   "cell_type": "code",
   "execution_count": 122,
   "id": "3575f6ad",
   "metadata": {},
   "outputs": [
    {
     "name": "stdout",
     "output_type": "stream",
     "text": [
      "100 100 100\n"
     ]
    }
   ],
   "source": [
    "print(len(Rating),len(Review_Summary),len(Full_Summary))"
   ]
  },
  {
   "cell_type": "code",
   "execution_count": 123,
   "id": "32cc194c",
   "metadata": {},
   "outputs": [],
   "source": [
    "import pandas as pd\n",
    "Iphone_Reviews=pd.DataFrame({})\n",
    "Iphone_Reviews['rating']=Rating\n",
    "Iphone_Reviews['review']=Review_Summary\n",
    "Iphone_Reviews['full review']=Full_Summary"
   ]
  },
  {
   "cell_type": "code",
   "execution_count": 124,
   "id": "e4e6a159",
   "metadata": {},
   "outputs": [
    {
     "data": {
      "text/html": [
       "<div>\n",
       "<style scoped>\n",
       "    .dataframe tbody tr th:only-of-type {\n",
       "        vertical-align: middle;\n",
       "    }\n",
       "\n",
       "    .dataframe tbody tr th {\n",
       "        vertical-align: top;\n",
       "    }\n",
       "\n",
       "    .dataframe thead th {\n",
       "        text-align: right;\n",
       "    }\n",
       "</style>\n",
       "<table border=\"1\" class=\"dataframe\">\n",
       "  <thead>\n",
       "    <tr style=\"text-align: right;\">\n",
       "      <th></th>\n",
       "      <th>rating</th>\n",
       "      <th>review</th>\n",
       "      <th>full review</th>\n",
       "    </tr>\n",
       "  </thead>\n",
       "  <tbody>\n",
       "    <tr>\n",
       "      <th>0</th>\n",
       "      <td>5</td>\n",
       "      <td>Brilliant</td>\n",
       "      <td>he Best Phone for the Money\\n\\nThe iPhone 11 o...</td>\n",
       "    </tr>\n",
       "    <tr>\n",
       "      <th>1</th>\n",
       "      <td>5</td>\n",
       "      <td>Simply awesome</td>\n",
       "      <td>eally satisfied with the Product I received......</td>\n",
       "    </tr>\n",
       "    <tr>\n",
       "      <th>2</th>\n",
       "      <td>5</td>\n",
       "      <td>Best in the market!</td>\n",
       "      <td>reat iPhone very snappy experience as apple ki...</td>\n",
       "    </tr>\n",
       "    <tr>\n",
       "      <th>3</th>\n",
       "      <td>5</td>\n",
       "      <td>Perfect product!</td>\n",
       "      <td>mazing phone with great cameras and better bat...</td>\n",
       "    </tr>\n",
       "    <tr>\n",
       "      <th>4</th>\n",
       "      <td>5</td>\n",
       "      <td>Fabulous!</td>\n",
       "      <td>his is my first iOS phone. I am very happy wit...</td>\n",
       "    </tr>\n",
       "    <tr>\n",
       "      <th>...</th>\n",
       "      <td>...</td>\n",
       "      <td>...</td>\n",
       "      <td>...</td>\n",
       "    </tr>\n",
       "    <tr>\n",
       "      <th>95</th>\n",
       "      <td>5</td>\n",
       "      <td>Worth every penny</td>\n",
       "      <td>reviously I was using one plus 3t it was a gre...</td>\n",
       "    </tr>\n",
       "    <tr>\n",
       "      <th>96</th>\n",
       "      <td>5</td>\n",
       "      <td>Great product</td>\n",
       "      <td>mazing Powerful and Durable Gadget.\\n\\nI’m am ...</td>\n",
       "    </tr>\n",
       "    <tr>\n",
       "      <th>97</th>\n",
       "      <td>4</td>\n",
       "      <td>Good choice</td>\n",
       "      <td>o far it’s been an AMAZING experience coming b...</td>\n",
       "    </tr>\n",
       "    <tr>\n",
       "      <th>98</th>\n",
       "      <td>5</td>\n",
       "      <td>Highly recommended</td>\n",
       "      <td>hat a camera .....just awesome ..you can feel ...</td>\n",
       "    </tr>\n",
       "    <tr>\n",
       "      <th>99</th>\n",
       "      <td>5</td>\n",
       "      <td>Worth every penny</td>\n",
       "      <td>11 is worthy to buy, too much happy with the p...</td>\n",
       "    </tr>\n",
       "  </tbody>\n",
       "</table>\n",
       "<p>100 rows × 3 columns</p>\n",
       "</div>"
      ],
      "text/plain": [
       "   rating               review  \\\n",
       "0       5            Brilliant   \n",
       "1       5       Simply awesome   \n",
       "2       5  Best in the market!   \n",
       "3       5     Perfect product!   \n",
       "4       5            Fabulous!   \n",
       "..    ...                  ...   \n",
       "95      5    Worth every penny   \n",
       "96      5        Great product   \n",
       "97      4          Good choice   \n",
       "98      5   Highly recommended   \n",
       "99      5    Worth every penny   \n",
       "\n",
       "                                          full review  \n",
       "0   he Best Phone for the Money\\n\\nThe iPhone 11 o...  \n",
       "1   eally satisfied with the Product I received......  \n",
       "2   reat iPhone very snappy experience as apple ki...  \n",
       "3   mazing phone with great cameras and better bat...  \n",
       "4   his is my first iOS phone. I am very happy wit...  \n",
       "..                                                ...  \n",
       "95  reviously I was using one plus 3t it was a gre...  \n",
       "96  mazing Powerful and Durable Gadget.\\n\\nI’m am ...  \n",
       "97  o far it’s been an AMAZING experience coming b...  \n",
       "98  hat a camera .....just awesome ..you can feel ...  \n",
       "99  11 is worthy to buy, too much happy with the p...  \n",
       "\n",
       "[100 rows x 3 columns]"
      ]
     },
     "execution_count": 124,
     "metadata": {},
     "output_type": "execute_result"
    }
   ],
   "source": [
    "Iphone_Reviews"
   ]
  }
 ],
 "metadata": {
  "kernelspec": {
   "display_name": "Python 3",
   "language": "python",
   "name": "python3"
  },
  "language_info": {
   "codemirror_mode": {
    "name": "ipython",
    "version": 3
   },
   "file_extension": ".py",
   "mimetype": "text/x-python",
   "name": "python",
   "nbconvert_exporter": "python",
   "pygments_lexer": "ipython3",
   "version": "3.8.8"
  }
 },
 "nbformat": 4,
 "nbformat_minor": 5
}
